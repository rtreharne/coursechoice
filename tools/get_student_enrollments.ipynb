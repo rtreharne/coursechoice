{
 "cells": [
  {
   "cell_type": "code",
   "execution_count": 8,
   "metadata": {},
   "outputs": [],
   "source": [
    "# Import the necessary modules, variables, etc ...\n",
    "from canvasapi import Canvas\n",
    "import pandas as pd\n",
    "from tqdm import tqdm\n",
    "from config import CANVAS_URL, CANVAS_TOKEN\n",
    "\n",
    "canvas = Canvas(CANVAS_URL, CANVAS_TOKEN)"
   ]
  },
  {
   "cell_type": "markdown",
   "metadata": {},
   "source": [
    "# Mining Canvas for Student Enrollments\n",
    "\n",
    "This Notebook contains a few useful tools to:\n",
    "+ Get all courses from Canvas and save to a list\n",
    "+ Get all student enrollments from Canvas\n",
    "+ Generate a set of student usernames for use in scraping Tulip"
   ]
  },
  {
   "cell_type": "markdown",
   "metadata": {},
   "source": [
    "## Building a list of current and previous Canvas courses"
   ]
  },
  {
   "cell_type": "code",
   "execution_count": null,
   "metadata": {},
   "outputs": [],
   "source": [
    "# Get All course objects\n",
    "\n",
    "courses = []\n",
    "\n",
    "# Get last 5 terms (this is how long UoL has had Canvas for)\n",
    "terms = [\"201920\", \"202021\", \"202122\", \"202223\", \"202324\"]\n",
    "\n",
    "# Look for all LIFE courses\n",
    "course_labels = [f\"LIFE{str(code)}\" for code in range(100,800)]\n",
    "\n",
    "for term in terms:\n",
    "    for label in course_labels:\n",
    "        course_sis_id = f\"{label}-{term}\"\n",
    "        try:\n",
    "            courses.append(canvas.get_course(course_sis_id, use_sis_id=True))\n",
    "            print(course_sis_id)\n",
    "        except:\n",
    "            continue"
   ]
  },
  {
   "cell_type": "code",
   "execution_count": 17,
   "metadata": {},
   "outputs": [],
   "source": [
    "# Build a dataframe of course information\n",
    "rows = []\n",
    "for course in courses:\n",
    "    row = {\n",
    "        \"id\": course.id,\n",
    "        \"name\": course.name,\n",
    "        \"url\": CANVAS_URL + \"/courses/\" + str(course.id),\n",
    "    }\n",
    "    rows.append(row)\n",
    "\n",
    "df = pd.DataFrame(rows)\n",
    "\n",
    "# Save dataframe to a .csv file\n",
    "df.to_csv(\"courses.csv\", index=False)"
   ]
  },
  {
   "cell_type": "markdown",
   "metadata": {},
   "source": [
    "## Get student enrollments for every course"
   ]
  },
  {
   "cell_type": "code",
   "execution_count": 31,
   "metadata": {},
   "outputs": [],
   "source": [
    "# Create an empty \"enrollments.csv\" file\n",
    "empty_df = pd.DataFrame(\n",
    "    columns=[\n",
    "        \"user_id\",\n",
    "        \"user_name\",\n",
    "        \"sis_user_id\",\n",
    "        \"course_id\",\n",
    "    ]\n",
    ")\n",
    "empty_df.to_csv(\"enrollments.csv\", index=False)"
   ]
  },
  {
   "cell_type": "code",
   "execution_count": 34,
   "metadata": {},
   "outputs": [
    {
     "name": "stderr",
     "output_type": "stream",
     "text": [
      "  0%|          | 0/771 [00:00<?, ?it/s]"
     ]
    },
    {
     "name": "stderr",
     "output_type": "stream",
     "text": [
      "100%|██████████| 771/771 [7:05:10<00:00, 33.09s/it]  \n"
     ]
    }
   ],
   "source": [
    "df = pd.read_csv(\"courses.csv\")\n",
    "\n",
    "course_enrollments = []\n",
    "for i, course in tqdm(df.iterrows(), total=len(df)):\n",
    "    enrollments = [x for x in canvas.get_course(course[\"id\"]).get_enrollments(include=[\"user\"]) if x.type == \"StudentEnrollment\"]\n",
    "    for enrollment in enrollments:\n",
    "        try:\n",
    "            row = {\n",
    "                \"user_id\": enrollment.user_id,\n",
    "                \"user_name\": enrollment.user[\"sortable_name\"],\n",
    "                \"sis_user_id\": enrollment.user[\"sis_user_id\"],\n",
    "                \"course_id\": enrollment.course_id,\n",
    "            }\n",
    "            course_enrollments.append(row)\n",
    "        except KeyError:\n",
    "            continue\n",
    "\n",
    "    # Open enrollments.csv and update\n",
    "    pd.concat([pd.read_csv(\"enrollments.csv\"), pd.DataFrame(course_enrollments)]).to_csv(\"enrollments.csv\", index=False)\n"
   ]
  },
  {
   "cell_type": "code",
   "execution_count": null,
   "metadata": {},
   "outputs": [],
   "source": []
  }
 ],
 "metadata": {
  "kernelspec": {
   "display_name": "Python 3",
   "language": "python",
   "name": "python3"
  },
  "language_info": {
   "codemirror_mode": {
    "name": "ipython",
    "version": 3
   },
   "file_extension": ".py",
   "mimetype": "text/x-python",
   "name": "python",
   "nbconvert_exporter": "python",
   "pygments_lexer": "ipython3",
   "version": "3.12.0"
  }
 },
 "nbformat": 4,
 "nbformat_minor": 2
}
