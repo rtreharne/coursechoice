{
 "cells": [
  {
   "cell_type": "code",
   "execution_count": 1,
   "metadata": {},
   "outputs": [],
   "source": [
    "from selenium import webdriver\n",
    "from selenium.webdriver.common.keys import Keys\n",
    "from selenium.webdriver.chrome.service import Service\n",
    "from selenium.webdriver.common.by import By\n",
    "from selenium.webdriver.chrome.options import Options\n",
    "import time\n",
    "import pandas as pd\n",
    "import os\n",
    "import pickle\n",
    "import getpass\n",
    "from io import StringIO\n",
    "import pickle"
   ]
  },
  {
   "cell_type": "code",
   "execution_count": 2,
   "metadata": {},
   "outputs": [],
   "source": [
    "class Session:\n",
    "    def __init__(self):\n",
    "        # Get username and password from user\n",
    "        self.username = input(\"Input your MWS username: \")\n",
    "        self.password = getpass.getpass(\"Input your MWS password: \")\n",
    "        \n",
    "        # Configure webdriver\n",
    "        service = Service(executable_path=\"C:/Users/treharne/Documents/chromedriver.exe\")\n",
    "        options = Options()\n",
    "        options.add_argument('--ignore-certificate-errors')\n",
    "        options.add_argument('--headless')\n",
    "        self.browser = webdriver.Chrome(service=service, options=options)\n",
    "        \n",
    "        # Login\n",
    "        self.browser.get('https://tulip.liv.ac.uk/pls/new_portal/webwise.tul_bs_portal.home')\n",
    "        \n",
    "        username_input = self.browser.find_element(By.XPATH, \"//input[@name='p_username']\")\n",
    "        password_input = self.browser.find_element(By.XPATH, \"//input[@name='p_password']\")\n",
    "\n",
    "        # Get submit button by text \"LOG IN\"\n",
    "        submit_button = self.browser.find_element(By.XPATH, \"//button[contains(text(),'LOG IN')]\")\n",
    "        \n",
    "        username_input.send_keys(self.username)\n",
    "        password_input.send_keys(self.password)\n",
    "        \n",
    "        submit_button.click()\n",
    "        \n",
    "        # Wait for 5 seconds\n",
    "        print(\"wait ...\")\n",
    "        time.sleep(5)\n",
    "        \n",
    "        # Find all elements with the class \"verification-code\"\n",
    "        elements = self.browser.find_elements(By.CLASS_NAME, \"verification-code\")\n",
    "        \n",
    "        # Print the text content of each element\n",
    "        for element in elements:\n",
    "            print(\"Verification code for DUO\")\n",
    "            print(element.text)\n",
    "\n",
    "        # Countdown loop\n",
    "        for i in range(20, 0, -1):\n",
    "            print(\"You have {} seconds to enter your verification code.\".format(i), end=\"\\r\")\n",
    "            time.sleep(1)\n",
    "        \n",
    "        # Confirm trust browser\n",
    "        try:\n",
    "            self.browser.find_element(By.ID, \"trust-browser-button\").click()\n",
    "            print(\"\")\n",
    "            print(\"Login Success.\")\n",
    "        except:\n",
    "            print(\"\")\n",
    "            print(\"Login Failure\")"
   ]
  },
  {
   "cell_type": "code",
   "execution_count": 3,
   "metadata": {},
   "outputs": [
    {
     "name": "stdout",
     "output_type": "stream",
     "text": [
      "wait ...\n",
      "Verification code for DUO\n",
      "8375\n",
      "You have 1 seconds to enter your verification code..\n",
      "Login Success.\n"
     ]
    }
   ],
   "source": [
    "start = Session()"
   ]
  },
  {
   "cell_type": "code",
   "execution_count": 4,
   "metadata": {},
   "outputs": [],
   "source": [
    "def get_student_modules(student_id):\n",
    "\n",
    "    start.browser.get(\"https://tulip.liv.ac.uk/pls/new_portal/webwise.systgenq_new.p_liv_idenquiry\")\n",
    "\n",
    "    id_input = start.browser.find_element(By.XPATH, \"//input[@name='p_idno']\")\n",
    "    id_input.send_keys(student_id)\n",
    "\n",
    "    registered = start.browser.find_elements(By.XPATH, \"//input[@name='p_registered']\")[1]\n",
    "    registered.click()\n",
    "\n",
    "    start.browser.find_element(By.XPATH, \"//input[@value='Search']\").click()\n",
    "\n",
    "    # Get a element by text \"Select\"\n",
    "    try:\n",
    "        start.browser.find_element(By.XPATH, \"//a[contains(text(),'Select')]\").click()\n",
    "        \n",
    "    except:\n",
    "        print(\"Couldn't find student: \", student_id)\n",
    "        return None\n",
    "\n",
    "    # Get a element by text \"Academic History\"\n",
    "    start.browser.find_element(By.XPATH, \"//font[contains(text(),'Academic History')]\").click()\n",
    "\n",
    "    academic_history = []\n",
    "\n",
    "    while True:\n",
    "        # Get a element by text \"Next\"\n",
    "        try:\n",
    "            academic_history.extend(pd.read_html(StringIO(start.browser.page_source)))\n",
    "            start.browser.find_element(By.XPATH, \"//input[@value='Previous Term']\").click()\n",
    "        except:\n",
    "            break\n",
    "\n",
    "    start.browser.find_element(By.XPATH, \"//font[contains(text(),'Current Modules')]\").click()\n",
    "\n",
    "    current_modules = pd.read_html(StringIO(start.browser.page_source))\n",
    "\n",
    "    return {\n",
    "        \"academic_history\": academic_history,\n",
    "        \"current_modules\": current_modules\n",
    "    }"
   ]
  },
  {
   "cell_type": "code",
   "execution_count": 5,
   "metadata": {},
   "outputs": [],
   "source": [
    "def read_pickle(fname):# if data.pickle doesn't exist, create it\n",
    "    if not os.path.exists(fname):\n",
    "        data = {}\n",
    "        with open(\"data.pickle\", \"wb\") as f:\n",
    "            pickle.dump({}, f)\n",
    "        return data\n",
    "    else:\n",
    "        with open(fname, \"rb\") as f:\n",
    "            data = pickle.load(f)\n",
    "        return data"
   ]
  },
  {
   "cell_type": "code",
   "execution_count": 6,
   "metadata": {},
   "outputs": [],
   "source": [
    "def get_student_ids_from_enrollments(fname):\n",
    "    df = pd.read_csv(fname)\n",
    "\n",
    "    temp = [x[:9] for x in df[\"sis_user_id\"]]\n",
    "\n",
    "    student_ids = []\n",
    "    for student in temp:\n",
    "        try:\n",
    "            student_ids.append(int(student))\n",
    "        except:\n",
    "            pass\n",
    "\n",
    "    return list(set(student_ids))\n",
    "            \n",
    "                   "
   ]
  },
  {
   "cell_type": "code",
   "execution_count": 7,
   "metadata": {},
   "outputs": [],
   "source": [
    "student_ids = get_student_ids_from_enrollments(\"enrollments.csv\")"
   ]
  },
  {
   "cell_type": "code",
   "execution_count": 8,
   "metadata": {},
   "outputs": [
    {
     "data": {
      "text/plain": [
       "3890"
      ]
     },
     "execution_count": 8,
     "metadata": {},
     "output_type": "execute_result"
    }
   ],
   "source": [
    "len(student_ids)"
   ]
  },
  {
   "cell_type": "code",
   "execution_count": 9,
   "metadata": {},
   "outputs": [
    {
     "name": "stderr",
     "output_type": "stream",
     "text": [
      "  7%|▋         | 270/3890 [04:18<42:06,  1.43it/s]  "
     ]
    },
    {
     "name": "stdout",
     "output_type": "stream",
     "text": [
      "Couldn't find student:  201769587\n"
     ]
    },
    {
     "name": "stderr",
     "output_type": "stream",
     "text": [
      "  7%|▋         | 272/3890 [04:27<57:57,  1.04it/s]"
     ]
    },
    {
     "name": "stdout",
     "output_type": "stream",
     "text": [
      "Couldn't find student:  201769636\n"
     ]
    },
    {
     "name": "stderr",
     "output_type": "stream",
     "text": [
      " 18%|█▊        | 686/3890 [08:13<31:27,  1.70it/s]  "
     ]
    },
    {
     "name": "stdout",
     "output_type": "stream",
     "text": [
      "Couldn't find student:  201590189\n"
     ]
    },
    {
     "name": "stderr",
     "output_type": "stream",
     "text": [
      " 22%|██▏       | 859/3890 [09:16<19:19,  2.62it/s]"
     ]
    },
    {
     "name": "stdout",
     "output_type": "stream",
     "text": [
      "Couldn't find student:  201639687\n"
     ]
    },
    {
     "name": "stderr",
     "output_type": "stream",
     "text": [
      " 23%|██▎       | 878/3890 [09:24<19:10,  2.62it/s]"
     ]
    },
    {
     "name": "stdout",
     "output_type": "stream",
     "text": [
      "Couldn't find student:  201746273\n"
     ]
    },
    {
     "name": "stderr",
     "output_type": "stream",
     "text": [
      " 33%|███▎      | 1278/3890 [12:12<19:21,  2.25it/s]"
     ]
    },
    {
     "name": "stdout",
     "output_type": "stream",
     "text": [
      "Couldn't find student:  201763660\n"
     ]
    },
    {
     "name": "stderr",
     "output_type": "stream",
     "text": [
      " 35%|███▍      | 1358/3890 [12:19<09:21,  4.51it/s]"
     ]
    },
    {
     "name": "stdout",
     "output_type": "stream",
     "text": [
      "Couldn't find student:  201763668\n"
     ]
    },
    {
     "name": "stderr",
     "output_type": "stream",
     "text": [
      " 42%|████▏     | 1646/3890 [15:37<37:50,  1.01s/it]  "
     ]
    },
    {
     "name": "stdout",
     "output_type": "stream",
     "text": [
      "Couldn't find student:  201764268\n"
     ]
    },
    {
     "name": "stderr",
     "output_type": "stream",
     "text": [
      " 53%|█████▎    | 2068/3890 [17:28<06:56,  4.38it/s]"
     ]
    },
    {
     "name": "stdout",
     "output_type": "stream",
     "text": [
      "Couldn't find student:  201617606\n"
     ]
    },
    {
     "name": "stderr",
     "output_type": "stream",
     "text": [
      " 55%|█████▍    | 2126/3890 [17:45<07:32,  3.89it/s]"
     ]
    },
    {
     "name": "stdout",
     "output_type": "stream",
     "text": [
      "Couldn't find student:  201675132\n"
     ]
    },
    {
     "name": "stderr",
     "output_type": "stream",
     "text": [
      " 56%|█████▋    | 2191/3890 [18:03<07:44,  3.66it/s]"
     ]
    },
    {
     "name": "stdout",
     "output_type": "stream",
     "text": [
      "Couldn't find student:  201765317\n"
     ]
    },
    {
     "name": "stderr",
     "output_type": "stream",
     "text": [
      " 58%|█████▊    | 2271/3890 [18:38<09:06,  2.96it/s]"
     ]
    },
    {
     "name": "stdout",
     "output_type": "stream",
     "text": [
      "Couldn't find student:  201749090\n"
     ]
    },
    {
     "name": "stderr",
     "output_type": "stream",
     "text": [
      " 60%|█████▉    | 2320/3890 [19:02<10:57,  2.39it/s]"
     ]
    },
    {
     "name": "stdout",
     "output_type": "stream",
     "text": [
      "Couldn't find student:  201634529\n"
     ]
    },
    {
     "name": "stderr",
     "output_type": "stream",
     "text": [
      " 67%|██████▋   | 2621/3890 [20:54<14:30,  1.46it/s]"
     ]
    },
    {
     "name": "stdout",
     "output_type": "stream",
     "text": [
      "Couldn't find student:  201659766\n"
     ]
    },
    {
     "name": "stderr",
     "output_type": "stream",
     "text": [
      " 76%|███████▋  | 2975/3890 [22:13<02:55,  5.21it/s]"
     ]
    },
    {
     "name": "stdout",
     "output_type": "stream",
     "text": [
      "Couldn't find student:  201635895\n"
     ]
    },
    {
     "name": "stderr",
     "output_type": "stream",
     "text": [
      " 77%|███████▋  | 3001/3890 [22:26<03:55,  3.78it/s]"
     ]
    },
    {
     "name": "stdout",
     "output_type": "stream",
     "text": [
      "Couldn't find student:  201635991\n"
     ]
    },
    {
     "name": "stderr",
     "output_type": "stream",
     "text": [
      " 78%|███████▊  | 3043/3890 [22:48<05:50,  2.42it/s]"
     ]
    },
    {
     "name": "stdout",
     "output_type": "stream",
     "text": [
      "Couldn't find student:  201562329\n"
     ]
    },
    {
     "name": "stderr",
     "output_type": "stream",
     "text": [
      " 79%|███████▉  | 3077/3890 [23:03<05:28,  2.48it/s]"
     ]
    },
    {
     "name": "stdout",
     "output_type": "stream",
     "text": [
      "Couldn't find student:  201759129\n"
     ]
    },
    {
     "name": "stderr",
     "output_type": "stream",
     "text": [
      " 80%|████████  | 3131/3890 [23:10<03:11,  3.96it/s]"
     ]
    },
    {
     "name": "stdout",
     "output_type": "stream",
     "text": [
      "Couldn't find student:  201767323\n"
     ]
    },
    {
     "name": "stderr",
     "output_type": "stream",
     "text": [
      " 85%|████████▍ | 3302/3890 [24:32<02:59,  3.27it/s]"
     ]
    },
    {
     "name": "stdout",
     "output_type": "stream",
     "text": [
      "Couldn't find student:  201636643\n"
     ]
    },
    {
     "name": "stderr",
     "output_type": "stream",
     "text": [
      " 86%|████████▌ | 3327/3890 [24:40<02:53,  3.24it/s]"
     ]
    },
    {
     "name": "stdout",
     "output_type": "stream",
     "text": [
      "Couldn't find student:  201661310\n"
     ]
    },
    {
     "name": "stderr",
     "output_type": "stream",
     "text": [
      " 87%|████████▋ | 3378/3890 [24:46<01:53,  4.50it/s]"
     ]
    },
    {
     "name": "stdout",
     "output_type": "stream",
     "text": [
      "Couldn't find student:  201644948\n"
     ]
    },
    {
     "name": "stderr",
     "output_type": "stream",
     "text": [
      " 89%|████████▉ | 3453/3890 [25:19<02:34,  2.82it/s]"
     ]
    },
    {
     "name": "stdout",
     "output_type": "stream",
     "text": [
      "Couldn't find student:  201645112\n"
     ]
    },
    {
     "name": "stderr",
     "output_type": "stream",
     "text": [
      " 93%|█████████▎| 3603/3890 [26:19<01:41,  2.82it/s]"
     ]
    },
    {
     "name": "stdout",
     "output_type": "stream",
     "text": [
      "Couldn't find student:  201588138\n"
     ]
    },
    {
     "name": "stderr",
     "output_type": "stream",
     "text": [
      " 93%|█████████▎| 3626/3890 [26:26<01:30,  2.90it/s]"
     ]
    },
    {
     "name": "stdout",
     "output_type": "stream",
     "text": [
      "Couldn't find student:  201768356\n"
     ]
    },
    {
     "name": "stderr",
     "output_type": "stream",
     "text": [
      "100%|██████████| 3890/3890 [29:24<00:00,  2.20it/s]\n"
     ]
    }
   ],
   "source": [
    "from tqdm import tqdm\n",
    "\n",
    "data = read_pickle(\"data.pickle\")\n",
    "\n",
    "for student_id in tqdm(student_ids):\n",
    "    if student_id not in data:\n",
    "        data[student_id] = get_student_modules(student_id)\n",
    "        with open(\"data.pickle\", \"wb\") as f:\n",
    "            pickle.dump(data, f)"
   ]
  },
  {
   "cell_type": "code",
   "execution_count": 16,
   "metadata": {},
   "outputs": [
    {
     "data": {
      "text/plain": [
       "1221"
      ]
     },
     "execution_count": 16,
     "metadata": {},
     "output_type": "execute_result"
    }
   ],
   "source": [
    "len(data)"
   ]
  },
  {
   "cell_type": "code",
   "execution_count": null,
   "metadata": {},
   "outputs": [],
   "source": []
  }
 ],
 "metadata": {
  "kernelspec": {
   "display_name": "Python 3",
   "language": "python",
   "name": "python3"
  },
  "language_info": {
   "codemirror_mode": {
    "name": "ipython",
    "version": 3
   },
   "file_extension": ".py",
   "mimetype": "text/x-python",
   "name": "python",
   "nbconvert_exporter": "python",
   "pygments_lexer": "ipython3",
   "version": "3.12.0"
  }
 },
 "nbformat": 4,
 "nbformat_minor": 2
}
